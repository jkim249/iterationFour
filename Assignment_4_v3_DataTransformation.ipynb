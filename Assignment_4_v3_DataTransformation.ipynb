{
 "cells": [
  {
   "cell_type": "code",
   "execution_count": null,
   "metadata": {},
   "outputs": [],
   "source": [
    "# Must be included at the beginning of each new notebook. Remember to change the app name.\n",
    "import findspark\n",
    "findspark.init('/home/ubuntu/spark-2.1.1-bin-hadoop2.7')\n",
    "import pyspark\n",
    "from pyspark.sql import SparkSession\n",
    "spark = SparkSession.builder.appName('Data_Transformation').getOrCreate()"
   ]
  },
  {
   "cell_type": "code",
   "execution_count": null,
   "metadata": {},
   "outputs": [],
   "source": [
    "# Let's read in the data. Note that it's in the format of JSON.\n",
    "dog_data_merged = spark.read.load(\"Datasets/Dog_registred_hamilton_new_v1_2_5.csv\", format=\"csv\", header =\"true\")\n",
    "dog_data_merged.show()"
   ]
  },
  {
   "cell_type": "code",
   "execution_count": null,
   "metadata": {},
   "outputs": [],
   "source": [
    "dog_data_merged.groupBy(\"Classification\").count().show()"
   ]
  },
  {
   "cell_type": "code",
   "execution_count": null,
   "metadata": {},
   "outputs": [],
   "source": [
    "from pyspark.sql.functions import when\n",
    "\n",
    "dog_data_merged = dog_data_merged.withColumn(\"Classification\", \\\n",
    "              when(dog_data_merged[\"Classification\"] == \"Unsafe\", \"1\").\\\n",
    "              otherwise(\"0\"))"
   ]
  },
  {
   "cell_type": "code",
   "execution_count": null,
   "metadata": {
    "scrolled": true
   },
   "outputs": [],
   "source": [
    "dog_data_merged.printSchema()"
   ]
  },
  {
   "cell_type": "code",
   "execution_count": null,
   "metadata": {},
   "outputs": [],
   "source": [
    "from pyspark.sql.types import IntegerType\n",
    "dog_data_merged = dog_data_merged.withColumn(\"Dog_Number\",dog_data_merged[\"Dog_Number\"].cast(IntegerType()))\n",
    "dog_data_merged = dog_data_merged.withColumn(\"Age\",dog_data_merged[\"Age\"].cast(IntegerType()))\n",
    "dog_data_merged = dog_data_merged.withColumn(\"Total_Complains\",dog_data_merged[\"Total_Complains\"].cast(IntegerType()))\n",
    "dog_data_merged = dog_data_merged.withColumn(\"Classification\",dog_data_merged[\"Classification\"].cast(IntegerType()))"
   ]
  },
  {
   "cell_type": "code",
   "execution_count": null,
   "metadata": {
    "scrolled": true
   },
   "outputs": [],
   "source": [
    "dog_data_merged.printSchema()"
   ]
  },
  {
   "cell_type": "code",
   "execution_count": null,
   "metadata": {},
   "outputs": [],
   "source": [
    "dog_data_merged.groupBy(\"Classification\").count().show()"
   ]
  },
  {
   "cell_type": "code",
   "execution_count": null,
   "metadata": {},
   "outputs": [],
   "source": [
    "dog_dataPanda_merged = dog_data_merged.toPandas()"
   ]
  },
  {
   "cell_type": "code",
   "execution_count": null,
   "metadata": {},
   "outputs": [],
   "source": [
    "import plotly.express as px\n",
    "\n",
    "fig = px.box(dog_dataPanda_merged, y=\"Age\")\n",
    "fig.show()"
   ]
  },
  {
   "cell_type": "code",
   "execution_count": null,
   "metadata": {},
   "outputs": [],
   "source": [
    "dog_data_merged.select(\"Age\").distinct().orderBy(\"Age\").show(n=999999, truncate=True)"
   ]
  },
  {
   "cell_type": "code",
   "execution_count": null,
   "metadata": {},
   "outputs": [],
   "source": [
    "dog_data_merged.filter(\"Age >= 28\").count()"
   ]
  },
  {
   "cell_type": "code",
   "execution_count": null,
   "metadata": {},
   "outputs": [],
   "source": [
    "dog_data_merged.count()"
   ]
  },
  {
   "cell_type": "code",
   "execution_count": null,
   "metadata": {},
   "outputs": [],
   "source": [
    "dog_data_merged.select(\"Total_Complains\").distinct().orderBy(\"Total_Complains\").show(n=999999, truncate=True)"
   ]
  },
  {
   "cell_type": "code",
   "execution_count": null,
   "metadata": {
    "scrolled": true
   },
   "outputs": [],
   "source": [
    "fig_complains = px.box(dog_dataPanda_merged, y=\"Total_Complains\")\n",
    "fig_complains.show()"
   ]
  },
  {
   "cell_type": "code",
   "execution_count": null,
   "metadata": {},
   "outputs": [],
   "source": [
    "quantilesAge = dog_data_merged.approxQuantile(\"Age\", [0.25, 0.5, 0.75], 0)"
   ]
  },
  {
   "cell_type": "code",
   "execution_count": null,
   "metadata": {},
   "outputs": [],
   "source": [
    "quantilesAge"
   ]
  },
  {
   "cell_type": "code",
   "execution_count": null,
   "metadata": {},
   "outputs": [],
   "source": [
    "quantilesComplains = dog_data_merged.approxQuantile(\"Total_Complains\", [0.25, 0.5, 0.75], 0)"
   ]
  },
  {
   "cell_type": "code",
   "execution_count": null,
   "metadata": {},
   "outputs": [],
   "source": [
    "quantilesComplains"
   ]
  },
  {
   "cell_type": "code",
   "execution_count": null,
   "metadata": {},
   "outputs": [],
   "source": [
    "iqrAge = (10-2)\n",
    "iqrAge"
   ]
  },
  {
   "cell_type": "code",
   "execution_count": null,
   "metadata": {},
   "outputs": [],
   "source": [
    "iqrComplains = (2-0)\n",
    "iqrComplains"
   ]
  },
  {
   "cell_type": "code",
   "execution_count": null,
   "metadata": {},
   "outputs": [],
   "source": [
    "lowerBoundaryAge = 2 - 1.5 * iqrAge\n",
    "lowerBoundaryAge"
   ]
  },
  {
   "cell_type": "code",
   "execution_count": null,
   "metadata": {},
   "outputs": [],
   "source": [
    "upperBoundaryAge = 10 + 1.5 * iqrAge\n",
    "upperBoundaryAge"
   ]
  },
  {
   "cell_type": "code",
   "execution_count": null,
   "metadata": {},
   "outputs": [],
   "source": [
    "lowerBoundaryComplains = 0 - 1.5 * iqrComplains\n",
    "lowerBoundaryComplains"
   ]
  },
  {
   "cell_type": "code",
   "execution_count": null,
   "metadata": {},
   "outputs": [],
   "source": [
    "upperBoundaryComplains = 2 + 1.5 * iqrComplains\n",
    "upperBoundaryComplains"
   ]
  },
  {
   "cell_type": "code",
   "execution_count": null,
   "metadata": {},
   "outputs": [],
   "source": [
    "from pyspark.sql.functions import when\n",
    "dog_data_merged = dog_data_merged.withColumn(\"Age\", \\\n",
    "              when(dog_data_merged[\"Age\"] >22, -1).otherwise(dog_data_merged[\"Age\"]))"
   ]
  },
  {
   "cell_type": "code",
   "execution_count": null,
   "metadata": {},
   "outputs": [],
   "source": [
    "from pyspark.sql.functions import when\n",
    "dog_data_merged = dog_data_merged.withColumn(\"Total_Complains\", \\\n",
    "              when(dog_data_merged[\"Total_Complains\"] >22, -1).otherwise(dog_data_merged[\"Total_Complains\"]))"
   ]
  },
  {
   "cell_type": "code",
   "execution_count": null,
   "metadata": {},
   "outputs": [],
   "source": [
    "dog_data_merged.filter(dog_data_merged.Age == -1).count()"
   ]
  },
  {
   "cell_type": "code",
   "execution_count": null,
   "metadata": {},
   "outputs": [],
   "source": [
    "dog_data_merged.filter(dog_data_merged.Total_Complains == -1).count()"
   ]
  },
  {
   "cell_type": "code",
   "execution_count": null,
   "metadata": {},
   "outputs": [],
   "source": [
    "dog_data_merged = dog_data_merged.filter(dog_data_merged.Age > -1)\n",
    "dog_data_merged.filter(dog_data_merged.Age == -1).count()"
   ]
  },
  {
   "cell_type": "code",
   "execution_count": null,
   "metadata": {},
   "outputs": [],
   "source": [
    "dog_data_merged = dog_data_merged.filter(dog_data_merged.Total_Complains > -1)\n",
    "dog_data_merged.filter(dog_data_merged.Total_Complains == -1).count()"
   ]
  },
  {
   "cell_type": "code",
   "execution_count": null,
   "metadata": {},
   "outputs": [],
   "source": [
    "dog_data_merged.repartition(1).write.format(\"com.databricks.spark.csv\").option(\"header\", \"true\")\\\n",
    ".save(\"Dog_registred_hamilton_new_v1_2_6.csv\")"
   ]
  },
  {
   "cell_type": "code",
   "execution_count": null,
   "metadata": {},
   "outputs": [],
   "source": []
  }
 ],
 "metadata": {
  "kernelspec": {
   "display_name": "Python 3",
   "language": "python",
   "name": "python3"
  },
  "language_info": {
   "codemirror_mode": {
    "name": "ipython",
    "version": 3
   },
   "file_extension": ".py",
   "mimetype": "text/x-python",
   "name": "python",
   "nbconvert_exporter": "python",
   "pygments_lexer": "ipython3",
   "version": "3.5.2"
  }
 },
 "nbformat": 4,
 "nbformat_minor": 2
}
