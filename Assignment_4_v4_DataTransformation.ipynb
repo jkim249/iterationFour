{
 "cells": [
  {
   "cell_type": "code",
   "execution_count": 1,
   "metadata": {},
   "outputs": [],
   "source": [
    "# Must be included at the beginning of each new notebook. Remember to change the app name.\n",
    "import findspark\n",
    "findspark.init('/home/ubuntu/spark-2.1.1-bin-hadoop2.7')\n",
    "import pyspark\n",
    "from pyspark.sql import SparkSession\n",
    "spark = SparkSession.builder.appName('Data_Importance').getOrCreate()"
   ]
  },
  {
   "cell_type": "code",
   "execution_count": 2,
   "metadata": {},
   "outputs": [
    {
     "name": "stdout",
     "output_type": "stream",
     "text": [
      "+----------+-------------------+---------------------+---+----------+-------+------+--------------+--------------+---------------+\n",
      "|Dog_Number|Primary_Colour_Code|Secondary_Colour_Code|Age|Animal_Sex|Desexed|Worker|Classification|Microchip_Flag|Total_Complains|\n",
      "+----------+-------------------+---------------------+---+----------+-------+------+--------------+--------------+---------------+\n",
      "|    151010|               DARK|                 DARK|  0|         F|      Y|     N|             0|             Y|              0|\n",
      "|    173567|               DARK|                LIGHT|  0|         M|      N|     N|             0|             Y|              0|\n",
      "|    192345|              LIGHT|                LIGHT|  0|         F|      N|     N|             0|             N|              0|\n",
      "|    193685|              LIGHT|                LIGHT|  0|         M|      N|     N|             0|             Y|              0|\n",
      "|    218377|              LIGHT|                 DARK|  0|         M|      Y|     N|             0|             Y|              0|\n",
      "|    222071|               DARK|                LIGHT|  0|         F|      Y|     N|             0|             Y|              0|\n",
      "|    223603|              LIGHT|                LIGHT|  0|         F|      N|     N|             0|             Y|              0|\n",
      "|    234035|               DARK|                 DARK|  0|         M|      N|     N|             0|             Y|              0|\n",
      "|    234169|              LIGHT|                LIGHT|  0|         M|      N|     N|             0|             Y|              0|\n",
      "|    234737|               DARK|                LIGHT|  0|         F|      N|     N|             0|             Y|              0|\n",
      "|    235290|               DARK|                LIGHT|  0|         F|      N|     N|             0|             Y|              0|\n",
      "|    235610|               DARK|                LIGHT|  0|         M|      Y|     N|             0|             Y|              0|\n",
      "|    235789|              LIGHT|                LIGHT|  0|         F|      N|     N|             0|             Y|              0|\n",
      "|    236387|              LIGHT|                LIGHT|  0|         M|      N|     N|             0|             Y|              0|\n",
      "|    237924|              LIGHT|                LIGHT|  0|         F|      N|     N|             0|             N|              0|\n",
      "|     41157|              LIGHT|                LIGHT|  0|         F|      N|     N|             0|             N|              0|\n",
      "|     93545|               DARK|                 DARK|  0|         M|      N|     N|             0|             N|              0|\n",
      "|    100576|               DARK|                LIGHT|  0|         F|      N|     N|             0|             N|              0|\n",
      "|    101167|               DARK|                 DARK|  0|         F|      N|     N|             0|             Y|              0|\n",
      "|    124353|               DARK|                LIGHT|  0|         M|      N|     N|             0|             Y|              0|\n",
      "+----------+-------------------+---------------------+---+----------+-------+------+--------------+--------------+---------------+\n",
      "only showing top 20 rows\n",
      "\n"
     ]
    }
   ],
   "source": [
    "# Let's read in the data. Note that it's in the format of JSON.\n",
    "dog_data_merged = spark.read.load(\"Datasets/Dog_registred_hamilton_new_v1_2_6.csv\", format=\"csv\", header =\"true\")\n",
    "dog_data_merged.show()"
   ]
  },
  {
   "cell_type": "code",
   "execution_count": 3,
   "metadata": {
    "scrolled": true
   },
   "outputs": [
    {
     "name": "stdout",
     "output_type": "stream",
     "text": [
      "root\n",
      " |-- Dog_Number: string (nullable = true)\n",
      " |-- Primary_Colour_Code: string (nullable = true)\n",
      " |-- Secondary_Colour_Code: string (nullable = true)\n",
      " |-- Age: string (nullable = true)\n",
      " |-- Animal_Sex: string (nullable = true)\n",
      " |-- Desexed: string (nullable = true)\n",
      " |-- Worker: string (nullable = true)\n",
      " |-- Classification: string (nullable = true)\n",
      " |-- Microchip_Flag: string (nullable = true)\n",
      " |-- Total_Complains: string (nullable = true)\n",
      "\n"
     ]
    }
   ],
   "source": [
    "dog_data_merged.printSchema()"
   ]
  },
  {
   "cell_type": "code",
   "execution_count": 4,
   "metadata": {},
   "outputs": [],
   "source": [
    "from pyspark.sql.types import IntegerType\n",
    "dog_data_merged = dog_data_merged.withColumn(\"Dog_Number\",dog_data_merged[\"Dog_Number\"].cast(IntegerType()))\n",
    "dog_data_merged = dog_data_merged.withColumn(\"Age\",dog_data_merged[\"Age\"].cast(IntegerType()))\n",
    "dog_data_merged = dog_data_merged.withColumn(\"Total_Complains\",dog_data_merged[\"Total_Complains\"].cast(IntegerType()))\n",
    "dog_data_merged = dog_data_merged.withColumn(\"Classification\",dog_data_merged[\"Classification\"].cast(IntegerType()))"
   ]
  },
  {
   "cell_type": "code",
   "execution_count": 5,
   "metadata": {
    "scrolled": true
   },
   "outputs": [
    {
     "name": "stdout",
     "output_type": "stream",
     "text": [
      "root\n",
      " |-- Dog_Number: integer (nullable = true)\n",
      " |-- Primary_Colour_Code: string (nullable = true)\n",
      " |-- Secondary_Colour_Code: string (nullable = true)\n",
      " |-- Age: integer (nullable = true)\n",
      " |-- Animal_Sex: string (nullable = true)\n",
      " |-- Desexed: string (nullable = true)\n",
      " |-- Worker: string (nullable = true)\n",
      " |-- Classification: integer (nullable = true)\n",
      " |-- Microchip_Flag: string (nullable = true)\n",
      " |-- Total_Complains: integer (nullable = true)\n",
      "\n"
     ]
    }
   ],
   "source": [
    "dog_data_merged.printSchema()"
   ]
  },
  {
   "cell_type": "code",
   "execution_count": 6,
   "metadata": {},
   "outputs": [
    {
     "name": "stdout",
     "output_type": "stream",
     "text": [
      "+--------------+-----+\n",
      "|Classification|count|\n",
      "+--------------+-----+\n",
      "|             1| 1504|\n",
      "|             0|57545|\n",
      "+--------------+-----+\n",
      "\n"
     ]
    }
   ],
   "source": [
    "dog_data_merged.groupBy(\"Classification\").count().show()"
   ]
  },
  {
   "cell_type": "code",
   "execution_count": 7,
   "metadata": {},
   "outputs": [],
   "source": [
    "dog_dataPanda_merged = dog_data_merged.toPandas()"
   ]
  },
  {
   "cell_type": "code",
   "execution_count": 8,
   "metadata": {},
   "outputs": [
    {
     "data": {
      "text/plain": [
       "['Dog_Number',\n",
       " 'Primary_Colour_Code',\n",
       " 'Secondary_Colour_Code',\n",
       " 'Age',\n",
       " 'Animal_Sex',\n",
       " 'Desexed',\n",
       " 'Worker',\n",
       " 'Classification',\n",
       " 'Microchip_Flag',\n",
       " 'Total_Complains']"
      ]
     },
     "execution_count": 8,
     "metadata": {},
     "output_type": "execute_result"
    }
   ],
   "source": [
    "dog_data_merged.columns"
   ]
  },
  {
   "cell_type": "code",
   "execution_count": 9,
   "metadata": {},
   "outputs": [],
   "source": [
    "from pyspark.ml.feature import RFormula\n",
    "formula = RFormula(\n",
    "    formula=\"Classification ~ Primary_Colour_Code + Secondary_Colour_Code + Age +\\\n",
    "    Animal_Sex + Desexed + Worker + Microchip_Flag+ Total_Complains\",\n",
    "    featuresCol=\"features\",\n",
    "    labelCol=\"label\")"
   ]
  },
  {
   "cell_type": "code",
   "execution_count": 10,
   "metadata": {},
   "outputs": [
    {
     "name": "stdout",
     "output_type": "stream",
     "text": [
      "+--------------------+-----+\n",
      "|            features|label|\n",
      "+--------------------+-----+\n",
      "|(8,[0,5,6],[1.0,1...|  0.0|\n",
      "|[1.0,1.0,0.0,1.0,...|  0.0|\n",
      "|(8,[1,4,5],[1.0,1...|  0.0|\n",
      "|[0.0,1.0,0.0,1.0,...|  0.0|\n",
      "|(8,[3,5,6],[1.0,1...|  0.0|\n",
      "|(8,[0,1,5,6],[1.0...|  0.0|\n",
      "|(8,[1,4,5,6],[1.0...|  0.0|\n",
      "|[1.0,0.0,0.0,1.0,...|  0.0|\n",
      "|[0.0,1.0,0.0,1.0,...|  0.0|\n",
      "|[1.0,1.0,0.0,0.0,...|  0.0|\n",
      "|[1.0,1.0,0.0,0.0,...|  0.0|\n",
      "|[1.0,1.0,0.0,1.0,...|  0.0|\n",
      "|(8,[1,4,5,6],[1.0...|  0.0|\n",
      "|[0.0,1.0,0.0,1.0,...|  0.0|\n",
      "|(8,[1,4,5],[1.0,1...|  0.0|\n",
      "|(8,[1,4,5],[1.0,1...|  0.0|\n",
      "|(8,[0,3,4,5],[1.0...|  0.0|\n",
      "|(8,[0,1,4,5],[1.0...|  0.0|\n",
      "|(8,[0,4,5,6],[1.0...|  0.0|\n",
      "|[1.0,1.0,0.0,1.0,...|  0.0|\n",
      "+--------------------+-----+\n",
      "only showing top 20 rows\n",
      "\n"
     ]
    }
   ],
   "source": [
    "output = formula.fit(dog_data_merged).transform(dog_data_merged)\n",
    "output.select(\"features\", \"label\").show()"
   ]
  },
  {
   "cell_type": "code",
   "execution_count": 11,
   "metadata": {},
   "outputs": [],
   "source": [
    "dog_selected_data = dog_data_merged.select(['Primary_Colour_Code',\n",
    " 'Secondary_Colour_Code',\n",
    " 'Age',\n",
    " 'Animal_Sex',\n",
    " 'Desexed',\n",
    " 'Worker',\n",
    " 'Classification',\n",
    " 'Microchip_Flag',\n",
    " 'Total_Complains'])"
   ]
  },
  {
   "cell_type": "code",
   "execution_count": 12,
   "metadata": {},
   "outputs": [],
   "source": [
    "from pyspark.ml.feature import (VectorAssembler,VectorIndexer,\n",
    "                                OneHotEncoder,StringIndexer)"
   ]
  },
  {
   "cell_type": "code",
   "execution_count": 13,
   "metadata": {},
   "outputs": [],
   "source": [
    "primary_colour_indexer = StringIndexer(inputCol='Primary_Colour_Code',\\\n",
    "                                       outputCol='Primary_Colour_Code_Index',)\n",
    "primary_colour_encoder = OneHotEncoder(inputCol='Primary_Colour_Code_Index',\\\n",
    "                                       outputCol='Primary_Colour_Vec')"
   ]
  },
  {
   "cell_type": "code",
   "execution_count": 14,
   "metadata": {},
   "outputs": [],
   "source": [
    "secondary_colour_indexer = StringIndexer(inputCol='Secondary_Colour_Code',\\\n",
    "                                         outputCol='Secondary_Colour_Code_Index', )\n",
    "secondary_colour_encoder = OneHotEncoder(inputCol='Secondary_Colour_Code_Index',\\\n",
    "                                         outputCol='Secondary_Colour_Vec')"
   ]
  },
  {
   "cell_type": "code",
   "execution_count": 15,
   "metadata": {},
   "outputs": [],
   "source": [
    "sex_indexer = StringIndexer(inputCol='Animal_Sex',\\\n",
    "                                       outputCol='Animal_Sex_Index', )\n",
    "sex_encoder = OneHotEncoder(inputCol='Animal_Sex_Index',\\\n",
    "                                       outputCol='Animal_Sex_Vec')"
   ]
  },
  {
   "cell_type": "code",
   "execution_count": 16,
   "metadata": {},
   "outputs": [],
   "source": [
    "desexed_indexer = StringIndexer(inputCol='Desexed',\\\n",
    "                                       outputCol='Desexed_Index', )\n",
    "desexed_encoder = OneHotEncoder(inputCol='Desexed_Index', outputCol='Desexed_Vec')"
   ]
  },
  {
   "cell_type": "code",
   "execution_count": 17,
   "metadata": {},
   "outputs": [],
   "source": [
    "worker_indexer = StringIndexer(inputCol='Worker',\\\n",
    "                                       outputCol='Worker_Index', )\n",
    "worker_encoder = OneHotEncoder(inputCol='Worker_Index',outputCol='Worker_Vec')"
   ]
  },
  {
   "cell_type": "code",
   "execution_count": 18,
   "metadata": {},
   "outputs": [],
   "source": [
    "microchip_flag_indexer = StringIndexer(inputCol='Microchip_Flag',\\\n",
    "                                       outputCol='Microchip_Flag_Index', )\n",
    "microchip_flag_encoder = OneHotEncoder(inputCol='Microchip_Flag_Index',\\\n",
    "                                       outputCol='Microchip_Flag_Vec')"
   ]
  },
  {
   "cell_type": "code",
   "execution_count": 19,
   "metadata": {},
   "outputs": [],
   "source": [
    "string_indexes = ['primary_colour_indexer', 'secondary_colour_indexer', 'sex_indexer',\\\n",
    "                            'desexed_indexer', 'worker_indexer', 'microchip_flag_indexer']"
   ]
  },
  {
   "cell_type": "code",
   "execution_count": 20,
   "metadata": {},
   "outputs": [],
   "source": [
    "onehot_indexes = ['primary_colour_encoder', 'secondary_colour_encoder', 'sex_encoder',\n",
    "                            'desexed_encoder', 'worker_encoder', 'microchip_flag_encoder']"
   ]
  },
  {
   "cell_type": "code",
   "execution_count": 21,
   "metadata": {},
   "outputs": [],
   "source": [
    "label_indexes = StringIndexer(inputCol = 'Classification', outputCol = 'label')"
   ]
  },
  {
   "cell_type": "code",
   "execution_count": 22,
   "metadata": {},
   "outputs": [],
   "source": [
    "assembler = VectorAssembler(inputCols=['Primary_Colour_Vec',\n",
    " 'Secondary_Colour_Vec','Age','Animal_Sex_Vec','Desexed_Vec','Worker_Vec','Microchip_Flag_Vec','Total_Complains'], outputCol='features')"
   ]
  },
  {
   "cell_type": "code",
   "execution_count": 23,
   "metadata": {},
   "outputs": [],
   "source": [
    "from pyspark.ml.classification import  RandomForestClassifier\n",
    "rf = RandomForestClassifier(labelCol=\"label\", featuresCol=\"features\", seed = 8464,\n",
    "                            numTrees=10, cacheNodeIds = True, subsamplingRate = 0.7)"
   ]
  },
  {
   "cell_type": "code",
   "execution_count": 24,
   "metadata": {},
   "outputs": [],
   "source": [
    "from pyspark.ml import Pipeline\n",
    "\n",
    "\n",
    "pipe = Pipeline(stages = [primary_colour_indexer, secondary_colour_indexer, sex_indexer,\n",
    "                            desexed_indexer, worker_indexer, microchip_flag_indexer,\n",
    "                           primary_colour_encoder, secondary_colour_encoder, sex_encoder,\n",
    "                            desexed_encoder, worker_encoder,  microchip_flag_encoder, \n",
    "                            assembler, label_indexes, rf])"
   ]
  },
  {
   "cell_type": "code",
   "execution_count": 25,
   "metadata": {
    "scrolled": true
   },
   "outputs": [],
   "source": [
    "mod = pipe.fit(dog_selected_data)"
   ]
  },
  {
   "cell_type": "code",
   "execution_count": 26,
   "metadata": {},
   "outputs": [],
   "source": [
    "df2 = mod.transform(dog_selected_data)"
   ]
  },
  {
   "cell_type": "code",
   "execution_count": 27,
   "metadata": {},
   "outputs": [
    {
     "data": {
      "text/plain": [
       "SparseVector(8, {0: 0.0347, 1: 0.018, 2: 0.1045, 3: 0.0029, 4: 0.2384, 5: 0.0, 6: 0.1451, 7: 0.4564})"
      ]
     },
     "execution_count": 27,
     "metadata": {},
     "output_type": "execute_result"
    }
   ],
   "source": [
    "mod.stages[-1].featureImportances"
   ]
  },
  {
   "cell_type": "code",
   "execution_count": 28,
   "metadata": {
    "scrolled": true
   },
   "outputs": [
    {
     "name": "stdout",
     "output_type": "stream",
     "text": [
      "+--------------------+--------------+\n",
      "|            features|Classification|\n",
      "+--------------------+--------------+\n",
      "|(8,[0,5,6],[1.0,1...|             0|\n",
      "|[1.0,1.0,0.0,1.0,...|             0|\n",
      "|(8,[1,4,5],[1.0,1...|             0|\n",
      "|[0.0,1.0,0.0,1.0,...|             0|\n",
      "|(8,[3,5,6],[1.0,1...|             0|\n",
      "|(8,[0,1,5,6],[1.0...|             0|\n",
      "|(8,[1,4,5,6],[1.0...|             0|\n",
      "|[1.0,0.0,0.0,1.0,...|             0|\n",
      "|[0.0,1.0,0.0,1.0,...|             0|\n",
      "|[1.0,1.0,0.0,0.0,...|             0|\n",
      "|[1.0,1.0,0.0,0.0,...|             0|\n",
      "|[1.0,1.0,0.0,1.0,...|             0|\n",
      "|(8,[1,4,5,6],[1.0...|             0|\n",
      "|[0.0,1.0,0.0,1.0,...|             0|\n",
      "|(8,[1,4,5],[1.0,1...|             0|\n",
      "|(8,[1,4,5],[1.0,1...|             0|\n",
      "|(8,[0,3,4,5],[1.0...|             0|\n",
      "|(8,[0,1,4,5],[1.0...|             0|\n",
      "|(8,[0,4,5,6],[1.0...|             0|\n",
      "|[1.0,1.0,0.0,1.0,...|             0|\n",
      "+--------------------+--------------+\n",
      "only showing top 20 rows\n",
      "\n"
     ]
    }
   ],
   "source": [
    "df2.select('features','Classification').show()"
   ]
  },
  {
   "cell_type": "code",
   "execution_count": 29,
   "metadata": {},
   "outputs": [
    {
     "data": {
      "text/plain": [
       "['Primary_Colour_Code',\n",
       " 'Secondary_Colour_Code',\n",
       " 'Age',\n",
       " 'Animal_Sex',\n",
       " 'Desexed',\n",
       " 'Worker',\n",
       " 'Classification',\n",
       " 'Microchip_Flag',\n",
       " 'Total_Complains',\n",
       " 'Primary_Colour_Code_Index',\n",
       " 'Secondary_Colour_Code_Index',\n",
       " 'Animal_Sex_Index',\n",
       " 'Desexed_Index',\n",
       " 'Worker_Index',\n",
       " 'Microchip_Flag_Index',\n",
       " 'Primary_Colour_Vec',\n",
       " 'Secondary_Colour_Vec',\n",
       " 'Animal_Sex_Vec',\n",
       " 'Desexed_Vec',\n",
       " 'Worker_Vec',\n",
       " 'Microchip_Flag_Vec',\n",
       " 'features',\n",
       " 'label',\n",
       " 'rawPrediction',\n",
       " 'probability',\n",
       " 'prediction']"
      ]
     },
     "execution_count": 29,
     "metadata": {},
     "output_type": "execute_result"
    }
   ],
   "source": [
    "df2.columns"
   ]
  },
  {
   "cell_type": "code",
   "execution_count": 30,
   "metadata": {},
   "outputs": [
    {
     "name": "stdout",
     "output_type": "stream",
     "text": [
      "ChiSqSelector output with top 1 features selected\n",
      "+-------------------+---------------------+---+----------+-------+------+--------------+--------------+---------------+-------------------------+---------------------------+----------------+-------------+------------+--------------------+------------------+--------------------+--------------+-------------+-------------+------------------+--------------------+-----+--------------------+--------------------+----------+----------------+\n",
      "|Primary_Colour_Code|Secondary_Colour_Code|Age|Animal_Sex|Desexed|Worker|Classification|Microchip_Flag|Total_Complains|Primary_Colour_Code_Index|Secondary_Colour_Code_Index|Animal_Sex_Index|Desexed_Index|Worker_Index|Microchip_Flag_Index|Primary_Colour_Vec|Secondary_Colour_Vec|Animal_Sex_Vec|  Desexed_Vec|   Worker_Vec|Microchip_Flag_Vec|            features|label|       rawPrediction|         probability|prediction|selectedFeatures|\n",
      "+-------------------+---------------------+---+----------+-------+------+--------------+--------------+---------------+-------------------------+---------------------------+----------------+-------------+------------+--------------------+------------------+--------------------+--------------+-------------+-------------+------------------+--------------------+-----+--------------------+--------------------+----------+----------------+\n",
      "|               DARK|                 DARK|  0|         F|      Y|     N|             0|             Y|              0|                      0.0|                        1.0|             1.0|          1.0|         0.0|                 0.0|     (1,[0],[1.0])|           (1,[],[])|     (1,[],[])|    (1,[],[])|(1,[0],[1.0])|     (1,[0],[1.0])|(8,[0,5,6],[1.0,1...|  0.0|[9.90298085801049...|[0.99029808580104...|       0.0|   (1,[0],[1.0])|\n",
      "|               DARK|                LIGHT|  0|         M|      N|     N|             0|             Y|              0|                      0.0|                        0.0|             0.0|          0.0|         0.0|                 0.0|     (1,[0],[1.0])|       (1,[0],[1.0])| (1,[0],[1.0])|(1,[0],[1.0])|(1,[0],[1.0])|     (1,[0],[1.0])|[1.0,1.0,0.0,1.0,...|  0.0|[9.90463649410803...|[0.99046364941080...|       0.0|           [1.0]|\n",
      "|              LIGHT|                LIGHT|  0|         F|      N|     N|             0|             N|              0|                      1.0|                        0.0|             1.0|          0.0|         0.0|                 1.0|         (1,[],[])|       (1,[0],[1.0])|     (1,[],[])|(1,[0],[1.0])|(1,[0],[1.0])|         (1,[],[])|(8,[1,4,5],[1.0,1...|  0.0|[9.92696276248149...|[0.99269627624814...|       0.0|       (1,[],[])|\n",
      "|              LIGHT|                LIGHT|  0|         M|      N|     N|             0|             Y|              0|                      1.0|                        0.0|             0.0|          0.0|         0.0|                 0.0|         (1,[],[])|       (1,[0],[1.0])| (1,[0],[1.0])|(1,[0],[1.0])|(1,[0],[1.0])|     (1,[0],[1.0])|[0.0,1.0,0.0,1.0,...|  0.0|[9.91186596319047...|[0.99118659631904...|       0.0|           [0.0]|\n",
      "|              LIGHT|                 DARK|  0|         M|      Y|     N|             0|             Y|              0|                      1.0|                        1.0|             0.0|          1.0|         0.0|                 0.0|         (1,[],[])|           (1,[],[])| (1,[0],[1.0])|    (1,[],[])|(1,[0],[1.0])|     (1,[0],[1.0])|(8,[3,5,6],[1.0,1...|  0.0|[9.96205301379087...|[0.99620530137908...|       0.0|       (1,[],[])|\n",
      "|               DARK|                LIGHT|  0|         F|      Y|     N|             0|             Y|              0|                      0.0|                        0.0|             1.0|          1.0|         0.0|                 0.0|     (1,[0],[1.0])|       (1,[0],[1.0])|     (1,[],[])|    (1,[],[])|(1,[0],[1.0])|     (1,[0],[1.0])|(8,[0,1,5,6],[1.0...|  0.0|[9.91630502285321...|[0.99163050228532...|       0.0|   (1,[0],[1.0])|\n",
      "|              LIGHT|                LIGHT|  0|         F|      N|     N|             0|             Y|              0|                      1.0|                        0.0|             1.0|          0.0|         0.0|                 0.0|         (1,[],[])|       (1,[0],[1.0])|     (1,[],[])|(1,[0],[1.0])|(1,[0],[1.0])|     (1,[0],[1.0])|(8,[1,4,5,6],[1.0...|  0.0|[9.91175895575679...|[0.99117589557567...|       0.0|       (1,[],[])|\n",
      "|               DARK|                 DARK|  0|         M|      N|     N|             0|             Y|              0|                      0.0|                        1.0|             0.0|          0.0|         0.0|                 0.0|     (1,[0],[1.0])|           (1,[],[])| (1,[0],[1.0])|(1,[0],[1.0])|(1,[0],[1.0])|     (1,[0],[1.0])|[1.0,0.0,0.0,1.0,...|  0.0|[9.92170918237980...|[0.99217091823798...|       0.0|           [1.0]|\n",
      "|              LIGHT|                LIGHT|  0|         M|      N|     N|             0|             Y|              0|                      1.0|                        0.0|             0.0|          0.0|         0.0|                 0.0|         (1,[],[])|       (1,[0],[1.0])| (1,[0],[1.0])|(1,[0],[1.0])|(1,[0],[1.0])|     (1,[0],[1.0])|[0.0,1.0,0.0,1.0,...|  0.0|[9.91186596319047...|[0.99118659631904...|       0.0|           [0.0]|\n",
      "|               DARK|                LIGHT|  0|         F|      N|     N|             0|             Y|              0|                      0.0|                        0.0|             1.0|          0.0|         0.0|                 0.0|     (1,[0],[1.0])|       (1,[0],[1.0])|     (1,[],[])|(1,[0],[1.0])|(1,[0],[1.0])|     (1,[0],[1.0])|[1.0,1.0,0.0,0.0,...|  0.0|[9.91431059200491...|[0.99143105920049...|       0.0|           [1.0]|\n",
      "|               DARK|                LIGHT|  0|         F|      N|     N|             0|             Y|              0|                      0.0|                        0.0|             1.0|          0.0|         0.0|                 0.0|     (1,[0],[1.0])|       (1,[0],[1.0])|     (1,[],[])|(1,[0],[1.0])|(1,[0],[1.0])|     (1,[0],[1.0])|[1.0,1.0,0.0,0.0,...|  0.0|[9.91431059200491...|[0.99143105920049...|       0.0|           [1.0]|\n",
      "|               DARK|                LIGHT|  0|         M|      Y|     N|             0|             Y|              0|                      0.0|                        0.0|             0.0|          1.0|         0.0|                 0.0|     (1,[0],[1.0])|       (1,[0],[1.0])| (1,[0],[1.0])|    (1,[],[])|(1,[0],[1.0])|     (1,[0],[1.0])|[1.0,1.0,0.0,1.0,...|  0.0|[9.91658022355648...|[0.99165802235564...|       0.0|           [1.0]|\n",
      "|              LIGHT|                LIGHT|  0|         F|      N|     N|             0|             Y|              0|                      1.0|                        0.0|             1.0|          0.0|         0.0|                 0.0|         (1,[],[])|       (1,[0],[1.0])|     (1,[],[])|(1,[0],[1.0])|(1,[0],[1.0])|     (1,[0],[1.0])|(8,[1,4,5,6],[1.0...|  0.0|[9.91175895575679...|[0.99117589557567...|       0.0|       (1,[],[])|\n",
      "|              LIGHT|                LIGHT|  0|         M|      N|     N|             0|             Y|              0|                      1.0|                        0.0|             0.0|          0.0|         0.0|                 0.0|         (1,[],[])|       (1,[0],[1.0])| (1,[0],[1.0])|(1,[0],[1.0])|(1,[0],[1.0])|     (1,[0],[1.0])|[0.0,1.0,0.0,1.0,...|  0.0|[9.91186596319047...|[0.99118659631904...|       0.0|           [0.0]|\n",
      "|              LIGHT|                LIGHT|  0|         F|      N|     N|             0|             N|              0|                      1.0|                        0.0|             1.0|          0.0|         0.0|                 1.0|         (1,[],[])|       (1,[0],[1.0])|     (1,[],[])|(1,[0],[1.0])|(1,[0],[1.0])|         (1,[],[])|(8,[1,4,5],[1.0,1...|  0.0|[9.92696276248149...|[0.99269627624814...|       0.0|       (1,[],[])|\n",
      "|              LIGHT|                LIGHT|  0|         F|      N|     N|             0|             N|              0|                      1.0|                        0.0|             1.0|          0.0|         0.0|                 1.0|         (1,[],[])|       (1,[0],[1.0])|     (1,[],[])|(1,[0],[1.0])|(1,[0],[1.0])|         (1,[],[])|(8,[1,4,5],[1.0,1...|  0.0|[9.92696276248149...|[0.99269627624814...|       0.0|       (1,[],[])|\n",
      "|               DARK|                 DARK|  0|         M|      N|     N|             0|             N|              0|                      0.0|                        1.0|             0.0|          0.0|         0.0|                 1.0|     (1,[0],[1.0])|           (1,[],[])| (1,[0],[1.0])|(1,[0],[1.0])|(1,[0],[1.0])|         (1,[],[])|(8,[0,3,4,5],[1.0...|  0.0|[9.95406424160456...|[0.99540642416045...|       0.0|   (1,[0],[1.0])|\n",
      "|               DARK|                LIGHT|  0|         F|      N|     N|             0|             N|              0|                      0.0|                        0.0|             1.0|          0.0|         0.0|                 1.0|     (1,[0],[1.0])|       (1,[0],[1.0])|     (1,[],[])|(1,[0],[1.0])|(1,[0],[1.0])|         (1,[],[])|(8,[0,1,4,5],[1.0...|  0.0|[9.90660104628090...|[0.99066010462809...|       0.0|   (1,[0],[1.0])|\n",
      "|               DARK|                 DARK|  0|         F|      N|     N|             0|             Y|              0|                      0.0|                        1.0|             1.0|          0.0|         0.0|                 0.0|     (1,[0],[1.0])|           (1,[],[])|     (1,[],[])|(1,[0],[1.0])|(1,[0],[1.0])|     (1,[0],[1.0])|(8,[0,4,5,6],[1.0...|  0.0|[9.92742119284437...|[0.99274211928443...|       0.0|   (1,[0],[1.0])|\n",
      "|               DARK|                LIGHT|  0|         M|      N|     N|             0|             Y|              0|                      0.0|                        0.0|             0.0|          0.0|         0.0|                 0.0|     (1,[0],[1.0])|       (1,[0],[1.0])| (1,[0],[1.0])|(1,[0],[1.0])|(1,[0],[1.0])|     (1,[0],[1.0])|[1.0,1.0,0.0,1.0,...|  0.0|[9.90463649410803...|[0.99046364941080...|       0.0|           [1.0]|\n",
      "+-------------------+---------------------+---+----------+-------+------+--------------+--------------+---------------+-------------------------+---------------------------+----------------+-------------+------------+--------------------+------------------+--------------------+--------------+-------------+-------------+------------------+--------------------+-----+--------------------+--------------------+----------+----------------+\n",
      "only showing top 20 rows\n",
      "\n"
     ]
    }
   ],
   "source": [
    "from pyspark.ml.feature import ChiSqSelector\n",
    "from pyspark.ml.linalg import Vectors\n",
    "\n",
    "selector = ChiSqSelector(numTopFeatures=1, featuresCol=\"features\",\n",
    "                         outputCol=\"selectedFeatures\", labelCol=\"Classification\")\n",
    "\n",
    "result = selector.fit(df2).transform(df2)\n",
    "\n",
    "print(\"ChiSqSelector output with top %d features selected\" % selector.getNumTopFeatures())\n",
    "result.show()"
   ]
  },
  {
   "cell_type": "code",
   "execution_count": 31,
   "metadata": {},
   "outputs": [
    {
     "data": {
      "text/plain": [
       "59049"
      ]
     },
     "execution_count": 31,
     "metadata": {},
     "output_type": "execute_result"
    }
   ],
   "source": [
    "result.count()"
   ]
  },
  {
   "cell_type": "code",
   "execution_count": 32,
   "metadata": {},
   "outputs": [
    {
     "data": {
      "text/plain": [
       "59049"
      ]
     },
     "execution_count": 32,
     "metadata": {},
     "output_type": "execute_result"
    }
   ],
   "source": [
    "dog_data_merged.count()"
   ]
  },
  {
   "cell_type": "code",
   "execution_count": 33,
   "metadata": {},
   "outputs": [
    {
     "name": "stdout",
     "output_type": "stream",
     "text": [
      "+--------------+-----+\n",
      "|Classification|count|\n",
      "+--------------+-----+\n",
      "|             1| 1504|\n",
      "|             0|57545|\n",
      "+--------------+-----+\n",
      "\n"
     ]
    }
   ],
   "source": [
    "dog_data_merged.groupBy(\"Classification\").count().show()"
   ]
  },
  {
   "cell_type": "code",
   "execution_count": null,
   "metadata": {},
   "outputs": [],
   "source": []
  }
 ],
 "metadata": {
  "kernelspec": {
   "display_name": "Python 3",
   "language": "python",
   "name": "python3"
  },
  "language_info": {
   "codemirror_mode": {
    "name": "ipython",
    "version": 3
   },
   "file_extension": ".py",
   "mimetype": "text/x-python",
   "name": "python",
   "nbconvert_exporter": "python",
   "pygments_lexer": "ipython3",
   "version": "3.5.2"
  }
 },
 "nbformat": 4,
 "nbformat_minor": 2
}
